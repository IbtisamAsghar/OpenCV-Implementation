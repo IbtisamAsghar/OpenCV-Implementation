{
 "cells": [
  {
   "cell_type": "code",
   "execution_count": 2,
   "id": "c67a2be1-6b6a-4c70-93c1-d3cc13dc7686",
   "metadata": {},
   "outputs": [
    {
     "ename": "error",
     "evalue": "OpenCV(4.11.0) D:\\bld\\libopencv_1739279456529\\work\\modules\\highgui\\src\\window.cpp:973: error: (-215:Assertion failed) size.width>0 && size.height>0 in function 'cv::imshow'\n",
     "output_type": "error",
     "traceback": [
      "\u001b[1;31m---------------------------------------------------------------------------\u001b[0m",
      "\u001b[1;31merror\u001b[0m                                     Traceback (most recent call last)",
      "Cell \u001b[1;32mIn[2], line 8\u001b[0m\n\u001b[0;32m      6\u001b[0m \u001b[38;5;28;01mwhile\u001b[39;00m \u001b[38;5;28;01mTrue\u001b[39;00m : \n\u001b[0;32m      7\u001b[0m     _,frame \u001b[38;5;241m=\u001b[39m capture\u001b[38;5;241m.\u001b[39mread() \u001b[38;5;66;03m# _ represent the boolean value is there a video frame or not \u001b[39;00m\n\u001b[1;32m----> 8\u001b[0m     cv2\u001b[38;5;241m.\u001b[39mimshow(\u001b[38;5;124m'\u001b[39m\u001b[38;5;124mLiveStream\u001b[39m\u001b[38;5;124m'\u001b[39m , frame)\n\u001b[0;32m     10\u001b[0m     \u001b[38;5;28;01mif\u001b[39;00m cv2\u001b[38;5;241m.\u001b[39mwaitKey(\u001b[38;5;241m1\u001b[39m) \u001b[38;5;241m==\u001b[39m \u001b[38;5;241m27\u001b[39m : \n\u001b[0;32m     11\u001b[0m         \u001b[38;5;28;01mbreak\u001b[39;00m\n",
      "\u001b[1;31merror\u001b[0m: OpenCV(4.11.0) D:\\bld\\libopencv_1739279456529\\work\\modules\\highgui\\src\\window.cpp:973: error: (-215:Assertion failed) size.width>0 && size.height>0 in function 'cv::imshow'\n"
     ]
    }
   ],
   "source": [
    "import cv2\n",
    "capture = cv2.VideoCapture('add the url')\n",
    "\"\"\"\n",
    "- cv2.VideoCapture(source) is used to initialize a video capture object.\n",
    "- The source here is a URL (''), which is phone’s camera stream.\n",
    "- The phone's IP camera application (like IP Webcam for Android) provides this stream.\n",
    "- The capture object connects to the stream and allows us to read frames from it.\n",
    "\"\"\"\n",
    "\n",
    "\n",
    "# infinite loop to keep reading and displaying video frames until we stop it manually.\n",
    "\n",
    "while True : \n",
    "    _,frame = capture.read() # _ represent the boolean value is there a video frame or not it is used as a throwaway variable because we only care about the frame.\n",
    "    cv2.imshow('LiveStream' , frame)\n",
    "\n",
    "    if cv2.waitKey(1) == 27 : \n",
    "        break\n",
    "capture.release()\n",
    "cv2.destroyAllWindows()"
   ]
  },
  {
   "cell_type": "code",
   "execution_count": null,
   "id": "eeac7b9d-4e2c-40bd-b636-50a37e414be7",
   "metadata": {},
   "outputs": [],
   "source": []
  },
  {
   "cell_type": "code",
   "execution_count": null,
   "id": "dc0c433b-1658-4800-bd63-3cff841022d3",
   "metadata": {},
   "outputs": [],
   "source": []
  }
 ],
 "metadata": {
  "kernelspec": {
   "display_name": "Python [conda env:opencv-env]",
   "language": "python",
   "name": "conda-env-opencv-env-py"
  },
  "language_info": {
   "codemirror_mode": {
    "name": "ipython",
    "version": 3
   },
   "file_extension": ".py",
   "mimetype": "text/x-python",
   "name": "python",
   "nbconvert_exporter": "python",
   "pygments_lexer": "ipython3",
   "version": "3.13.2"
  }
 },
 "nbformat": 4,
 "nbformat_minor": 5
}

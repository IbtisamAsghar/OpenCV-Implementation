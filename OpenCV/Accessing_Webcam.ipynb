{
 "cells": [
  {
   "cell_type": "code",
   "execution_count": 1,
   "id": "16c54e70-6730-4875-ba61-5254afd6eb78",
   "metadata": {},
   "outputs": [],
   "source": [
    "import cv2\n",
    "import sys # allows us to access command-line arguments,\n",
    "\n",
    "s = 0\n",
    "if len(sys.argv) > 1: \n",
    "\"\"\"\n",
    "sys.argv: stores command-line arguments.\n",
    "- sys.argv[0] is the script name. use the default webcam.\n",
    "- sys.argv[1] (if provided) is a video file path.\n",
    "\"\"\"\n",
    "    s = sys.argv[1]\n",
    "\n",
    "source = cv2.VideoCapture(s)\n",
    "\n",
    "# Create a Display Window\n",
    "win_name = 'Camera Preview'\n",
    "cv2.namedWindow(win_name, cv2.WINDOW_NORMAL) # creates a window where the video will be displayed.\n",
    "\n",
    "while cv2.waitKey(1) != 27: # Escape\n",
    "\"\"\"\n",
    "1. cv2.waitKey(1) → Waits 1 millisecond for a key press.\n",
    "2. If ESC (27) is pressed, exit the loop.\n",
    "3. Otherwise, keep reading and displaying frames.\n",
    "\"\"\"\n",
    "    has_frame, frame = source.read()\n",
    "    if not has_frame:\n",
    "        break\n",
    "    cv2.imshow(win_name, frame) # Displays the current frame in the window.\n",
    "\n",
    "# Release Resources and Close the Window\n",
    "source.release() # Releases the video source\n",
    "cv2.destroyWindow(win_name) # Closes the OpenCV window."
   ]
  },
  {
   "cell_type": "code",
   "execution_count": 9,
   "id": "efc108b7-c947-4b83-bc7d-7138baee51d1",
   "metadata": {},
   "outputs": [],
   "source": [
    "import cv2\n",
    "capture = cv2.VideoCapture('http://192.168.10.4:8080/video')\n",
    "\n",
    "# video is currently streaming so we need a loop to display it \n",
    "\n",
    "while True : \n",
    "    _,frame = capture.read() # _ represent the boolean value is there a video frame or not \n",
    "    cv2.imshow('LiveStream' , frame)\n",
    "\n",
    "    if cv2.waitKey(1) == 27 : \n",
    "        break\n",
    "capture.release()\n",
    "cv2.destroyAllWindows()"
   ]
  },
  {
   "cell_type": "code",
   "execution_count": null,
   "id": "d674fbdb-3595-4a52-9a3c-23b161b12abd",
   "metadata": {},
   "outputs": [],
   "source": []
  }
 ],
 "metadata": {
  "kernelspec": {
   "display_name": "Python [conda env:opencv-env]",
   "language": "python",
   "name": "conda-env-opencv-env-py"
  },
  "language_info": {
   "codemirror_mode": {
    "name": "ipython",
    "version": 3
   },
   "file_extension": ".py",
   "mimetype": "text/x-python",
   "name": "python",
   "nbconvert_exporter": "python",
   "pygments_lexer": "ipython3",
   "version": "3.13.2"
  }
 },
 "nbformat": 4,
 "nbformat_minor": 5
}
